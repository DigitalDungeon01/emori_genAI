{
 "cells": [
  {
   "cell_type": "code",
   "execution_count": 4,
   "id": "aadd2412",
   "metadata": {},
   "outputs": [],
   "source": [
    "import os\n",
    "from database.milvus_cloud_db.zilliz_retriever import semantic_search, initialize_retriever, semantic_search_clean\n",
    "from langgraph.graph import StateGraph, START, END\n",
    "from langgraph.graph.message import add_messages\n",
    "from langgraph.graph import StateGraph \n",
    "from IPython.display import Image, display\n",
    "from langgraph.prebuilt import ToolNode, tools_condition\n",
    "from langchain.agents import Tool\n",
    "from langchain.tools import StructuredTool\n",
    "from typing import Annotated, Dict, Any, List\n",
    "from llm_model.llm import llm_model\n",
    "from pydantic import BaseModel\n",
    "import random\n",
    "import json"
   ]
  },
  {
   "cell_type": "markdown",
   "id": "2506db07",
   "metadata": {},
   "source": [
    "### Define tools"
   ]
  },
  {
   "cell_type": "code",
   "execution_count": 28,
   "id": "a8a8c79c",
   "metadata": {},
   "outputs": [
    {
     "name": "stdout",
     "output_type": "stream",
     "text": [
      "Retriever initialized successfully\n"
     ]
    }
   ],
   "source": [
    "\n",
    "# Initialize retriever\n",
    "init_result = initialize_retriever(\n",
    "    zilliz_uri= \"https://in03-d9c913fef2464e7.serverless.aws-eu-central-1.cloud.zilliz.com\",\n",
    "    zilliz_token= \"db_d9c913fef2464e7:Sh9&pO+<)v{>{0]1\",\n",
    "    collection_name= \"mental_health_emori\",\n",
    "    embedding_model= \"all-MiniLM-L6-v2\",\n",
    "    use_cuda= False\n",
    ")\n",
    "print(init_result)\n"
   ]
  },
  {
   "cell_type": "code",
   "execution_count": 37,
   "id": "be2f75a8",
   "metadata": {},
   "outputs": [
    {
     "data": {
      "text/plain": [
       "['mental illness promote early detection of mental illness, improve mental health outcomes, and improve mental health services 25,31. A recent study investigated the relationship between college students’ familiarity with active minds, mental health education, and awareness 32. In this study, students familiar with active-mind learning were associated with increased knowledge and decreased mental health stigma over time. Dealing with public stigma may reduce the likelihood of personal stigma for service users and make it easier to seek help and engage in mental health care 2. Snyder14 demonstrated that a mental health awareness campaign and communication could address the lack of awareness',\n",
       " 'illness promote early detection of mental illness, improve mental health outcomes, and improve mental health services 25,31. A recent study investigated the relationship between college students’ familiarity with active minds, mental health education, and awareness 32. In this study, students familiar with active-mind learning were associated with increased knowledge and decreased mental health stigma over time. Dealing with public stigma may reduce the likelihood of personal stigma for service users and make it easier to seek help and engage in mental health care 2. Snyder14 demonstrated that a mental health awareness campaign and communication could address the lack of awareness of',\n",
       " 'awareness and reduced stigma about mental illness promote early detection of mental illness, improve mental health outcomes, and improve mental health services 25,31. A recent study investigated the relationship between college students’ familiarity with active minds, mental health education, and awareness 32. In this study, students familiar with active-mind learning were associated with increased knowledge and decreased mental health stigma over time. Dealing with public stigma may reduce the likelihood of personal stigma for service users and make it easier to seek help and engage in mental health care 2. Snyder14 demonstrated that a mental health awareness campaign and communication could',\n",
       " '25,31. A recent study investigated the relationship between college students’ familiarity with active minds, mental health education, and awareness 32. In this study, students familiar with active-mind learning were associated with increased knowledge and decreased mental health stigma over time. Dealing with public stigma may reduce the likelihood of personal stigma for service users and make it easier to seek help and engage in mental health care 2. Snyder14 demonstrated that a mental health awareness campaign and communication could address the lack of awareness of services and awareness of stigma. Mental health awareness campaigns have successfully raised awareness and effectively changed',\n",
       " 'and awareness and reduced stigma about mental illness promote early detection of mental illness, improve mental health outcomes, and improve mental health services 25,31. A recent study investigated the relationship between college students’ familiarity with active minds, mental health education, and awareness 32. In this study, students familiar with active-mind learning were associated with increased knowledge and decreased mental health stigma over time. Dealing with public stigma may reduce the likelihood of personal stigma for service users and make it easier to seek help and engage in mental health care 2. Snyder14 demonstrated that a mental health awareness campaign and communication']"
      ]
     },
     "execution_count": 37,
     "metadata": {},
     "output_type": "execute_result"
    }
   ],
   "source": [
    "semantic_search_clean(\"mental healh awareness\", top_k=5, threshold=0.5)"
   ]
  },
  {
   "cell_type": "code",
   "execution_count": 38,
   "id": "c1c77f47",
   "metadata": {},
   "outputs": [],
   "source": [
    "# Simple state structure for stateless RAG\n",
    "def create_initial_state(query: str) -> Dict[str, Any]:\n",
    "    return {\n",
    "        \"user_query\": query,\n",
    "        \"retrieved_docs\": [],\n",
    "        \"final_response\": \"\",\n",
    "        \"context\": \"\"\n",
    "    }\n",
    "    \n"
   ]
  },
  {
   "cell_type": "code",
   "execution_count": 66,
   "id": "d6c144a2",
   "metadata": {},
   "outputs": [],
   "source": [
    "# Cell 2: Retrieval Function\n",
    "def retrieve_documents(state: Dict[str, Any]) -> Dict[str, Any]:\n",
    "    query = state[\"user_query\"]\n",
    "    \n",
    "    # Use your semantic search function\n",
    "    results = semantic_search_clean(query, top_k=10 )\n",
    "    \n",
    "    # Extract document content\n",
    "    retrieved_docs = []\n",
    "    for result in results:\n",
    "        retrieved_docs.append(result)\n",
    "    \n",
    "    # Update state\n",
    "    state[\"retrieved_docs\"] = retrieved_docs\n",
    "    \n",
    "    print(f\"Retrieved {len(retrieved_docs)} documents for query: {query}\")\n",
    "    \n",
    "    return state"
   ]
  },
  {
   "cell_type": "code",
   "execution_count": 67,
   "id": "68021735",
   "metadata": {},
   "outputs": [],
   "source": [
    "# Cell 3: Context Preparation Function\n",
    "def prepare_context(state: Dict[str, Any]) -> Dict[str, Any]:\n",
    "    retrieved_docs = state[\"retrieved_docs\"]\n",
    "    \n",
    "    # Combine retrieved documents into context\n",
    "    context_parts = []\n",
    "    for i, doc in enumerate(retrieved_docs):\n",
    "        context_parts.append(f\"Document {i+1}: {doc}\")\n",
    "    \n",
    "    context = \"\\n\\n\".join(context_parts)\n",
    "    state[\"context\"] = context\n",
    "    \n",
    "    print(f\"Prepared context from {len(retrieved_docs)} documents\")\n",
    "    \n",
    "    return state"
   ]
  },
  {
   "cell_type": "code",
   "execution_count": 76,
   "id": "1749dc78",
   "metadata": {},
   "outputs": [],
   "source": [
    "# Cell 4: LLM Generation Function\n",
    "def generate_response(state: Dict[str, Any]) -> Dict[str, Any]:\n",
    "    user_query = state[\"user_query\"]\n",
    "    context = state[\"context\"]\n",
    "    \n",
    "    # Create prompt for LLM\n",
    "    prompt = f\"\"\"\n",
    "    you are a helpful AI assistant,\n",
    "    Use only the provided context below to answer the question given by the user. Dont use any additional information.\n",
    "    start your response with answer to the question directly without mentioning retrieved documents.\n",
    "    Context:{context}\n",
    "    Question: {user_query} \n",
    "    Answer:\n",
    "    \n",
    "    Important:\n",
    "    - if you dont have answer for that question, just say \"I don't have information about that\"\n",
    "\"\"\"\n",
    "    \n",
    "    # Replace with your LLM call\n",
    "    # response = your_llm_client.generate(prompt)\n",
    "    response = llm_model.invoke(prompt)\n",
    "    \n",
    "    state[\"final_response\"] = response\n",
    "    \n",
    "    print(f\"Generated response for query: {user_query}\")\n",
    "    \n",
    "    return state"
   ]
  },
  {
   "cell_type": "code",
   "execution_count": 77,
   "id": "3f368c6f",
   "metadata": {},
   "outputs": [],
   "source": [
    "# Cell 5: LangGraph Setup\n",
    "def create_rag_graph():\n",
    "    # Create the graph\n",
    "    workflow = StateGraph(dict)\n",
    "    \n",
    "    # Add nodes\n",
    "    workflow.add_node(\"retrieve\", retrieve_documents)\n",
    "    workflow.add_node(\"prepare_context\", prepare_context)\n",
    "    workflow.add_node(\"generate\", generate_response)\n",
    "    \n",
    "    # Add edges\n",
    "    workflow.set_entry_point(\"retrieve\")\n",
    "    workflow.add_edge(\"retrieve\", \"prepare_context\")\n",
    "    workflow.add_edge(\"prepare_context\", \"generate\")\n",
    "    workflow.add_edge(\"generate\", END)\n",
    "    \n",
    "    # Compile the graph\n",
    "    app = workflow.compile()\n",
    "    \n",
    "    return app\n",
    "\n",
    "# Create the RAG application\n",
    "rag_app = create_rag_graph()\n"
   ]
  },
  {
   "cell_type": "code",
   "execution_count": 78,
   "id": "ff7871a4",
   "metadata": {},
   "outputs": [
    {
     "data": {
      "image/png": "[encoded data removed]",
      "text/plain": [
       "<IPython.core.display.Image object>"
      ]
     },
     "metadata": {},
     "output_type": "display_data"
    }
   ],
   "source": [
    "display(Image(rag_app.get_graph().draw_mermaid_png()))"
   ]
  },
  {
   "cell_type": "code",
   "execution_count": 79,
   "id": "388b3283",
   "metadata": {},
   "outputs": [],
   "source": [
    "# Cell 6: RAG Execution Function\n",
    "def run_rag(query: str) -> str:\n",
    "    # Create initial state\n",
    "    initial_state = create_initial_state(query)\n",
    "    \n",
    "    # Run the RAG pipeline\n",
    "    result = rag_app.invoke(initial_state)\n",
    "    \n",
    "    # Return final response\n",
    "    return result[\"final_response\"]"
   ]
  },
  {
   "cell_type": "code",
   "execution_count": 80,
   "id": "7341446d",
   "metadata": {},
   "outputs": [],
   "source": [
    "# Test function\n",
    "def test_rag(query: str):\n",
    "    print(f\"Query: {query}\")\n",
    "    response = run_rag(query)\n",
    "    print(f\"Response: {response}\")\n",
    "    return response"
   ]
  },
  {
   "cell_type": "code",
   "execution_count": 82,
   "id": "483c7946",
   "metadata": {},
   "outputs": [
    {
     "name": "stdout",
     "output_type": "stream",
     "text": [
      "Retrieved 10 documents for query: how to porvide awareness about mental health to the youth\n",
      "Prepared context from 10 documents\n",
      "Generated response for query: how to porvide awareness about mental health to the youth\n",
      "content='To provide awareness about mental health to the youth, implement school-based mental health literacy programs that aim to improve knowledge, attitudes, and help-seeking behaviors among young people. Educate young people about mental health and mental illness through targeted programs and evaluate their effectiveness to ensure the messages are impactful.' additional_kwargs={'refusal': None} response_metadata={'token_usage': {'completion_tokens': 58, 'prompt_tokens': 2052, 'total_tokens': 2110, 'completion_tokens_details': {'accepted_prediction_tokens': 0, 'audio_tokens': 0, 'reasoning_tokens': 0, 'rejected_prediction_tokens': 0}, 'prompt_tokens_details': {'audio_tokens': 0, 'cached_tokens': 0}}, 'model_name': 'gpt-4.1-nano-2025-04-14', 'system_fingerprint': 'fp_7c233bf9d1', 'id': 'chatcmpl-CGs0iB9syon2hS6bCnu5Ydic1T9bv', 'service_tier': 'default', 'finish_reason': 'stop', 'logprobs': None} id='run--8c191a05-6c5b-4338-88b2-d452c836ee1d-0' usage_metadata={'input_tokens': 2052, 'output_tokens': 58, 'total_tokens': 2110, 'input_token_details': {'audio': 0, 'cache_read': 0}, 'output_token_details': {'audio': 0, 'reasoning': 0}}\n"
     ]
    }
   ],
   "source": [
    "query = \"how to porvide awareness about mental health to the youth\"\n",
    "result = run_rag(query)\n",
    "print(result)"
   ]
  },
  {
   "cell_type": "code",
   "execution_count": 64,
   "id": "5774fd77",
   "metadata": {},
   "outputs": [
    {
     "data": {
      "text/plain": [
       "AIMessage(content='Mental health awareness among students is increasingly emphasized by researchers because many college students suffer from mental health issues, which can affect their lives and educational experiences. Providing mental health education and training helps students learn and understand issues related to mental illness, demonstrating a positive impact on their attitudes toward mental health.', additional_kwargs={'refusal': None}, response_metadata={'token_usage': {'completion_tokens': 57, 'prompt_tokens': 679, 'total_tokens': 736, 'completion_tokens_details': {'accepted_prediction_tokens': 0, 'audio_tokens': 0, 'reasoning_tokens': 0, 'rejected_prediction_tokens': 0}, 'prompt_tokens_details': {'audio_tokens': 0, 'cached_tokens': 0}}, 'model_name': 'gpt-4.1-nano-2025-04-14', 'system_fingerprint': 'fp_04d3664870', 'id': 'chatcmpl-CGrt64VaOQOjoCvLf1F92gEUVT3ya', 'service_tier': 'default', 'finish_reason': 'stop', 'logprobs': None}, id='run--6e261f6b-2ef6-48f1-8864-edc619a704aa-0', usage_metadata={'input_tokens': 679, 'output_tokens': 57, 'total_tokens': 736, 'input_token_details': {'audio': 0, 'cache_read': 0}, 'output_token_details': {'audio': 0, 'reasoning': 0}})"
      ]
     },
     "execution_count": 64,
     "metadata": {},
     "output_type": "execute_result"
    }
   ],
   "source": [
    "result"
   ]
  },
  {
   "cell_type": "code",
   "execution_count": 16,
   "id": "0132e472",
   "metadata": {},
   "outputs": [
    {
     "name": "stdout",
     "output_type": "stream",
     "text": [
      "Retrieved 5 documents for query: I feel tired\n",
      "Prepared context from 5 documents\n",
      "Generated response for query: I feel tired\n",
      "Response: content='The provided documents do not contain information related to feeling tired.' additional_kwargs={'refusal': None} response_metadata={'token_usage': {'completion_tokens': 12, 'prompt_tokens': 1208, 'total_tokens': 1220, 'completion_tokens_details': {'accepted_prediction_tokens': 0, 'audio_tokens': 0, 'reasoning_tokens': 0, 'rejected_prediction_tokens': 0}, 'prompt_tokens_details': {'audio_tokens': 0, 'cached_tokens': 1024}}, 'model_name': 'gpt-4.1-nano-2025-04-14', 'system_fingerprint': 'fp_04d3664870', 'id': 'chatcmpl-CGrgFBEbJDDk1xLTmmJ3P11OdJEtO', 'service_tier': 'default', 'finish_reason': 'stop', 'logprobs': None} id='run--8e01a302-641b-40b3-b096-0f1c2a0a0694-0' usage_metadata={'input_tokens': 1208, 'output_tokens': 12, 'total_tokens': 1220, 'input_token_details': {'audio': 0, 'cache_read': 1024}, 'output_token_details': {'audio': 0, 'reasoning': 0}}\n"
     ]
    }
   ],
   "source": [
    "def print_full_result(query: str):\n",
    "    initial_state = create_initial_state(query)\n",
    "    final_state = rag_app.invoke(initial_state)\n",
    "    \n",
    "    # print(\"Query:\", final_state[\"user_query\"])\n",
    "    # print(\"Retrieved docs:\", len(final_state[\"retrieved_docs\"]))\n",
    "    print(\"Response:\", final_state[\"final_response\"])\n",
    "\n",
    "# Usage\n",
    "print_full_result(\"I feel tired\")"
   ]
  },
  {
   "cell_type": "code",
   "execution_count": null,
   "id": "43014b0f",
   "metadata": {},
   "outputs": [],
   "source": []
  }
 ],
 "metadata": {
  "kernelspec": {
   "display_name": "Python 3 (ipykernel)",
   "language": "python",
   "name": "python3"
  }
 },
 "nbformat": 4,
 "nbformat_minor": 5
}
