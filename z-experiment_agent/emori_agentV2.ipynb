{
 "cells": [
  {
   "cell_type": "code",
   "execution_count": null,
   "id": "84c34d30",
   "metadata": {},
   "outputs": [],
   "source": [
    "import os\n",
    "from database.milvus_cloud_db.zilliz_retriever import semantic_search, initialize_retriever\n",
    "from database.milvus_cloud_db.zilliz_retriever_b import initialize_retriever_b, semantic_search_b\n",
    "from services.crud  import create_mental_health_db# database\n",
    "from services.calculator_node import MentalHealthCalculator\n",
    "\n",
    "\n",
    "from langgraph.graph import StateGraph, START, END\n",
    "from langgraph.graph.message import add_messages\n",
    "from IPython.display import Image, display\n",
    "from langgraph.prebuilt import ToolNode, tools_condition\n",
    "from langchain.agents import Tool\n",
    "from langchain.tools import StructuredTool\n",
    "\n",
    "from llm_model.llm import llm_model\n",
    "\n",
    "from typing import TypedDict, Optional, List, Dict, Any, Union\n",
    "from pydantic import BaseModel, Field, model_validator\n",
    "import random\n",
    "import json\n",
    "from pyppeteer import launch\n",
    "import asyncio\n",
    "from tavily import TavilyClient\n",
    "from bson import ObjectId "
   ]
  },
  {
   "cell_type": "code",
   "execution_count": null,
   "id": "c4f376c7",
   "metadata": {},
   "outputs": [],
   "source": [
    "# Initialize retriever\n",
    "init_result = initialize_retriever(\n",
    "    zilliz_uri=\"https://in03-d9c913fef2464e7.serverless.aws-eu-central-1.cloud.zilliz.com\",\n",
    "    zilliz_token=\"db_d9c913fef2464e7:Sh9&pO+<)v{>{0]1\",\n",
    "    collection_name= \"mental_health_emori\",\n",
    "    embedding_model= \"all-MiniLM-L6-v2\",\n",
    "    use_cuda= False\n",
    ")\n",
    "print(init_result)"
   ]
  },
  {
   "cell_type": "code",
   "execution_count": null,
   "id": "a1564f00",
   "metadata": {},
   "outputs": [],
   "source": [
    "zilliz_uri = os.getenv(\"ZILLIZ_URI_B\")\n",
    "zilliz_token = os.getenv(\"ZILLIZ_TOKEN_B\")\n",
    "\n",
    "initialize_retriever_b(\n",
    "    zilliz_uri=zilliz_uri,\n",
    "    zilliz_token=zilliz_token,\n",
    "    collection_name=\"sentiment_collection_emori\",\n",
    "    embedding_model=\"all-MiniLM-L6-v2\",\n",
    "    use_cuda=False\n",
    ")"
   ]
  },
  {
   "cell_type": "markdown",
   "id": "398bff71",
   "metadata": {},
   "source": [
    "## STATE GRAPH"
   ]
  },
  {
   "cell_type": "code",
   "execution_count": null,
   "id": "63f8fb4e",
   "metadata": {},
   "outputs": [],
   "source": [
    "class MainState(TypedDict):\n",
    "    user_query: str\n",
    "    answer: Optional[str]\n",
    "    user_id: str\n",
    "    past_output: Optional[List[Dict[str, str]]] \n",
    "    \n",
    "    # PATH A \n",
    "    semantic_search_a_results: Optional[List[Dict[str, str]]]\n",
    "    graded_documents: Optional[List[Dict[str, Union[str, int]]]] \n",
    "    label: Optional[str]\n",
    "\n",
    "    # PATH B \n",
    "    semantic_search_b_results: Optional[List[Dict[str, Union[str, float]]]] \n",
    "    intensity_score: Optional[Dict[str, Any]]  #\n",
    "    top_k_results: Optional[List[Dict[str, Union[str, float]]]]  \n",
    "    \n",
    "    # for calculator\n",
    "    user_scores: Optional[Dict[str, float]]  \n",
    "    user_decay_scores: Optional[Dict[str, float]]  \n",
    "    last_update_timestamp: Optional[str]  \n",
    "    calc_result: Optional[float]\n",
    "    \n",
    "    warning_text: Optional[str] \n",
    "    evaluation_result: Optional[str] # we use rule based evaluation\n",
    "    evaluation_feedback: Optional[str]\n",
    "    "
   ]
  },
  {
   "cell_type": "markdown",
   "id": "1a0933cc",
   "metadata": {},
   "source": [
    "## SCHEMA LLM ANSWER"
   ]
  },
  {
   "cell_type": "markdown",
   "id": "48967cf3",
   "metadata": {},
   "source": []
  },
  {
   "cell_type": "code",
   "execution_count": null,
   "id": "b6387e89",
   "metadata": {},
   "outputs": [],
   "source": []
  },
  {
   "cell_type": "markdown",
   "id": "5cc7fa75",
   "metadata": {},
   "source": [
    "### NODE"
   ]
  },
  {
   "cell_type": "markdown",
   "id": "8ae98df4",
   "metadata": {},
   "source": []
  }
 ],
 "metadata": {
  "language_info": {
   "name": "python"
  }
 },
 "nbformat": 4,
 "nbformat_minor": 5
}
